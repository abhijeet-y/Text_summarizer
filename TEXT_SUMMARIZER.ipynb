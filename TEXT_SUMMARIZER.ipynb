{
 "cells": [
  {
   "cell_type": "markdown",
   "metadata": {},
   "source": [
    "## SHORTENING THE TEXT:\n",
    "----------\n",
    "-------"
   ]
  },
  {
   "cell_type": "code",
   "execution_count": 108,
   "metadata": {},
   "outputs": [],
   "source": [
    "import spacy\n",
    "from spacy.lang.en.stop_words import STOP_WORDS\n",
    "from string import punctuation\n"
   ]
  },
  {
   "cell_type": "markdown",
   "metadata": {},
   "source": [
    "--------\n",
    "#### Text:\n",
    "\n",
    "------"
   ]
  },
  {
   "cell_type": "code",
   "execution_count": 121,
   "metadata": {},
   "outputs": [],
   "source": [
    "text=\"\"\"But the problem lay not so much in the problem itself but in the problems that he felt about his depression. It wasn’t just that he was depressed, it was that he was therefore depressing, towards himself and all those around him. Sucking the life out of every happy moment, projecting an arcing aurora of negative energy in a kind of reverse feng-shui as he sulked and skulked about in the corners of rooms\n",
    "\n",
    "His friends tried to include him as best they could, but this only made him feel more depressed, because they were the ones making the effort to drag this morbid, succourless husk out of his own little world, when it was him who should be making the effort. Why should they have to put up with him, me, he thought, and though they would eventually give up the ghost, leaving him content that they no longer felt him burdening them, he would arrive home to contemplate with disdain the way in which he felt left out, out of touch, disconnected, misunderstood.\n",
    "\n",
    "Humour used to be a good defensive mechanism, but as soon as he had become aware it of being a defense mechanism he no longer felt comfortable using it. Better to face up to the facts than employ a deflective irony. But with nothing with which to deflect, and a now acute awareness that an honesty about troubles would only be a burden upon the clearly happy and content people around him, he could only remain gravely silent, a furrowed brow christening his chastened pout.\n",
    "\n",
    "And so he would remain, until.\"\"\""
   ]
  },
  {
   "cell_type": "code",
   "execution_count": 122,
   "metadata": {},
   "outputs": [
    {
     "data": {
      "text/plain": [
       "1474"
      ]
     },
     "execution_count": 122,
     "metadata": {},
     "output_type": "execute_result"
    }
   ],
   "source": [
    "len(text)"
   ]
  },
  {
   "cell_type": "code",
   "execution_count": 123,
   "metadata": {},
   "outputs": [],
   "source": [
    "stopwords=list(STOP_WORDS)"
   ]
  },
  {
   "cell_type": "code",
   "execution_count": 124,
   "metadata": {},
   "outputs": [],
   "source": [
    "nlp= spacy.load('en_core_web_sm')  # Creating nlp model"
   ]
  },
  {
   "cell_type": "code",
   "execution_count": 125,
   "metadata": {},
   "outputs": [],
   "source": [
    "doc=nlp(text)"
   ]
  },
  {
   "cell_type": "markdown",
   "metadata": {},
   "source": [
    "-----------\n",
    "#### Tokenizing:\n",
    "\n",
    "-----"
   ]
  },
  {
   "cell_type": "code",
   "execution_count": 114,
   "metadata": {},
   "outputs": [],
   "source": [
    "tokens=[token.text for token in doc]"
   ]
  },
  {
   "cell_type": "code",
   "execution_count": 115,
   "metadata": {},
   "outputs": [
    {
     "name": "stdout",
     "output_type": "stream",
     "text": [
      "['But', 'the', 'problem', 'lay', 'not', 'so', 'much', 'in', 'the', 'problem', 'itself', 'but', 'in', 'the', 'problems', 'that', 'he', 'felt', 'about', 'his', 'depression', '.', 'It', 'was', 'n’t', 'just', 'that', 'he', 'was', 'depressed', ',', 'it', 'was', 'that', 'he', 'was', 'therefore', 'depressing', ',', 'towards', 'himself', 'and', 'all', 'those', 'around', 'him', '.', 'Sucking', 'the', 'life', 'out', 'of', 'every', 'happy', 'moment', ',', 'projecting', 'an', 'arcing', 'aurora', 'of', 'negative', 'energy', 'in', 'a', 'kind', 'of', 'reverse', 'feng', '-', 'shui', 'as', 'he', 'sulked', 'and', 'skulked', 'about', 'in', 'the', 'corners', 'of', 'rooms', '\\n\\n', 'His', 'friends', 'tried', 'to', 'include', 'him', 'as', 'best', 'they', 'could', ',', 'but', 'this', 'only', 'made', 'him', 'feel', 'more', 'depressed', ',', 'because', 'they', 'were', 'the', 'ones', 'making', 'the', 'effort', 'to', 'drag', 'this', 'morbid', ',', 'succourless', 'husk', 'out', 'of', 'his', 'own', 'little', 'world', ',', 'when', 'it', 'was', 'him', 'who', 'should', 'be', 'making', 'the', 'effort', '.', 'Why', 'should', 'they', 'have', 'to', 'put', 'up', 'with', 'him', ',', 'me', ',', 'he', 'thought', ',', 'and', 'though', 'they', 'would', 'eventually', 'give', 'up', 'the', 'ghost', ',', 'leaving', 'him', 'content', 'that', 'they', 'no', 'longer', 'felt', 'him', 'burdening', 'them', ',', 'he', 'would', 'arrive', 'home', 'to', 'contemplate', 'with', 'disdain', 'the', 'way', 'in', 'which', 'he', 'felt', 'left', 'out', ',', 'out', 'of', 'touch', ',', 'disconnected', ',', 'misunderstood', '.', '\\n\\n', 'Humour', 'used', 'to', 'be', 'a', 'good', 'defensive', 'mechanism', ',', 'but', 'as', 'soon', 'as', 'he', 'had', 'become', 'aware', 'it', 'of', 'being', 'a', 'defense', 'mechanism', 'he', 'no', 'longer', 'felt', 'comfortable', 'using', 'it', '.', 'Better', 'to', 'face', 'up', 'to', 'the', 'facts', 'than', 'employ', 'a', 'deflective', 'irony', '.', 'But', 'with', 'nothing', 'with', 'which', 'to', 'deflect', ',', 'and', 'a', 'now', 'acute', 'awareness', 'that', 'an', 'honesty', 'about', 'troubles', 'would', 'only', 'be', 'a', 'burden', 'upon', 'the', 'clearly', 'happy', 'and', 'content', 'people', 'around', 'him', ',', 'he', 'could', 'only', 'remain', 'gravely', 'silent', ',', 'a', 'furrowed', 'brow', 'christening', 'his', 'chastened', 'pout', '.', '\\n\\n', 'And', 'so', 'he', 'would', 'remain', ',', 'until', '.']\n"
     ]
    }
   ],
   "source": [
    "print(tokens)"
   ]
  },
  {
   "cell_type": "markdown",
   "metadata": {},
   "source": [
    "--------------\n",
    "- We need to remove the *stop words and punctuations* from these *tokens*\n",
    "\n"
   ]
  },
  {
   "cell_type": "code",
   "execution_count": 116,
   "metadata": {},
   "outputs": [
    {
     "data": {
      "text/plain": [
       "'!\"#$%&\\'()*+,-./:;<=>?@[\\\\]^_`{|}~'"
      ]
     },
     "execution_count": 116,
     "metadata": {},
     "output_type": "execute_result"
    }
   ],
   "source": [
    "punctuation"
   ]
  },
  {
   "cell_type": "markdown",
   "metadata": {},
   "source": [
    "-----------\n",
    "\n",
    "- **\\n\\n** is not in punctuation, so we need to add it to the punctuations"
   ]
  },
  {
   "cell_type": "code",
   "execution_count": 117,
   "metadata": {},
   "outputs": [],
   "source": [
    "punctuation= punctuation + '\\n\\n'"
   ]
  },
  {
   "cell_type": "code",
   "execution_count": 85,
   "metadata": {},
   "outputs": [
    {
     "data": {
      "text/plain": [
       "'!\"#$%&\\'()*+,-./:;<=>?@[\\\\]^_`{|}~\\n\\n'"
      ]
     },
     "execution_count": 85,
     "metadata": {},
     "output_type": "execute_result"
    }
   ],
   "source": [
    "punctuation"
   ]
  },
  {
   "cell_type": "markdown",
   "metadata": {},
   "source": [
    "------------\n",
    "#### Word Frequencies:\n",
    "\n",
    "----\n",
    "\n",
    "- Here, we will obtain the frequencies of all non-stopping words."
   ]
  },
  {
   "cell_type": "code",
   "execution_count": 87,
   "metadata": {},
   "outputs": [],
   "source": [
    "word_frequencies={}\n",
    "for word in doc:\n",
    "    if word.text.lower() not in stopwords:\n",
    "        if word.text.lower() not in punctuation:\n",
    "            if word.text not in word_frequencies.keys():\n",
    "                word_frequencies[word.text] = 1\n",
    "            else:\n",
    "                word_frequencies[word.text]+=1"
   ]
  },
  {
   "cell_type": "code",
   "execution_count": 120,
   "metadata": {},
   "outputs": [
    {
     "name": "stdout",
     "output_type": "stream",
     "text": [
      "{'problem': 0.5, 'lay': 0.25, 'problems': 0.25, 'felt': 1.0, 'depression': 0.25, 'depressed': 0.5, 'depressing': 0.25, 'Sucking': 0.25, 'life': 0.25, 'happy': 0.5, 'moment': 0.25, 'projecting': 0.25, 'arcing': 0.25, 'aurora': 0.25, 'negative': 0.25, 'energy': 0.25, 'kind': 0.25, 'reverse': 0.25, 'feng': 0.25, 'shui': 0.25, 'sulked': 0.25, 'skulked': 0.25, 'corners': 0.25, 'rooms': 0.25, 'friends': 0.25, 'tried': 0.25, 'include': 0.25, 'best': 0.25, 'feel': 0.25, 'ones': 0.25, 'making': 0.5, 'effort': 0.5, 'drag': 0.25, 'morbid': 0.25, 'succourless': 0.25, 'husk': 0.25, 'little': 0.25, 'world': 0.25, 'thought': 0.25, 'eventually': 0.25, 'ghost': 0.25, 'leaving': 0.25, 'content': 0.5, 'longer': 0.5, 'burdening': 0.25, 'arrive': 0.25, 'home': 0.25, 'contemplate': 0.25, 'disdain': 0.25, 'way': 0.25, 'left': 0.25, 'touch': 0.25, 'disconnected': 0.25, 'misunderstood': 0.25, 'Humour': 0.25, 'good': 0.25, 'defensive': 0.25, 'mechanism': 0.5, 'soon': 0.25, 'aware': 0.25, 'defense': 0.25, 'comfortable': 0.25, 'Better': 0.25, 'face': 0.25, 'facts': 0.25, 'employ': 0.25, 'deflective': 0.25, 'irony': 0.25, 'deflect': 0.25, 'acute': 0.25, 'awareness': 0.25, 'honesty': 0.25, 'troubles': 0.25, 'burden': 0.25, 'clearly': 0.25, 'people': 0.25, 'remain': 0.5, 'gravely': 0.25, 'silent': 0.25, 'furrowed': 0.25, 'brow': 0.25, 'christening': 0.25, 'chastened': 0.25, 'pout': 0.25}\n"
     ]
    }
   ],
   "source": [
    "print(word_frequencies,sep=' ')"
   ]
  },
  {
   "cell_type": "code",
   "execution_count": 89,
   "metadata": {},
   "outputs": [],
   "source": [
    "max_frequency_word=max(word_frequencies.keys())"
   ]
  },
  {
   "cell_type": "code",
   "execution_count": 90,
   "metadata": {},
   "outputs": [
    {
     "data": {
      "text/plain": [
       "'world'"
      ]
     },
     "execution_count": 90,
     "metadata": {},
     "output_type": "execute_result"
    }
   ],
   "source": [
    "max_frequencies"
   ]
  },
  {
   "cell_type": "code",
   "execution_count": 91,
   "metadata": {},
   "outputs": [],
   "source": [
    "max_frequency=max(word_frequencies.values())"
   ]
  },
  {
   "cell_type": "code",
   "execution_count": 92,
   "metadata": {},
   "outputs": [
    {
     "data": {
      "text/plain": [
       "4"
      ]
     },
     "execution_count": 92,
     "metadata": {},
     "output_type": "execute_result"
    }
   ],
   "source": [
    "max_frequency"
   ]
  },
  {
   "cell_type": "markdown",
   "metadata": {},
   "source": [
    "----------\n",
    "#### Normalizing the frequencies:\n",
    "\n",
    "-------"
   ]
  },
  {
   "cell_type": "code",
   "execution_count": 93,
   "metadata": {},
   "outputs": [],
   "source": [
    "for word in word_frequencies.keys():\n",
    "    word_frequencies[word]= word_frequencies[word]/max_frequency"
   ]
  },
  {
   "cell_type": "code",
   "execution_count": 126,
   "metadata": {},
   "outputs": [
    {
     "name": "stdout",
     "output_type": "stream",
     "text": [
      "{'problem': 0.5, 'lay': 0.25, 'problems': 0.25, 'felt': 1.0, 'depression': 0.25, 'depressed': 0.5, 'depressing': 0.25, 'Sucking': 0.25, 'life': 0.25, 'happy': 0.5, 'moment': 0.25, 'projecting': 0.25, 'arcing': 0.25, 'aurora': 0.25, 'negative': 0.25, 'energy': 0.25, 'kind': 0.25, 'reverse': 0.25, 'feng': 0.25, 'shui': 0.25, 'sulked': 0.25, 'skulked': 0.25, 'corners': 0.25, 'rooms': 0.25, 'friends': 0.25, 'tried': 0.25, 'include': 0.25, 'best': 0.25, 'feel': 0.25, 'ones': 0.25, 'making': 0.5, 'effort': 0.5, 'drag': 0.25, 'morbid': 0.25, 'succourless': 0.25, 'husk': 0.25, 'little': 0.25, 'world': 0.25, 'thought': 0.25, 'eventually': 0.25, 'ghost': 0.25, 'leaving': 0.25, 'content': 0.5, 'longer': 0.5, 'burdening': 0.25, 'arrive': 0.25, 'home': 0.25, 'contemplate': 0.25, 'disdain': 0.25, 'way': 0.25, 'left': 0.25, 'touch': 0.25, 'disconnected': 0.25, 'misunderstood': 0.25, 'Humour': 0.25, 'good': 0.25, 'defensive': 0.25, 'mechanism': 0.5, 'soon': 0.25, 'aware': 0.25, 'defense': 0.25, 'comfortable': 0.25, 'Better': 0.25, 'face': 0.25, 'facts': 0.25, 'employ': 0.25, 'deflective': 0.25, 'irony': 0.25, 'deflect': 0.25, 'acute': 0.25, 'awareness': 0.25, 'honesty': 0.25, 'troubles': 0.25, 'burden': 0.25, 'clearly': 0.25, 'people': 0.25, 'remain': 0.5, 'gravely': 0.25, 'silent': 0.25, 'furrowed': 0.25, 'brow': 0.25, 'christening': 0.25, 'chastened': 0.25, 'pout': 0.25}\n"
     ]
    }
   ],
   "source": [
    "print(word_frequencies)"
   ]
  },
  {
   "cell_type": "markdown",
   "metadata": {},
   "source": [
    "-----------\n",
    "#### Sentence Tokenisation:\n",
    "\n",
    "------------\n",
    "- Similar to word tokenisation we do sentence tokenisation."
   ]
  },
  {
   "cell_type": "code",
   "execution_count": 95,
   "metadata": {},
   "outputs": [],
   "source": [
    "sentence_tokens= [sent for sent in doc.sents]"
   ]
  },
  {
   "cell_type": "code",
   "execution_count": 96,
   "metadata": {},
   "outputs": [
    {
     "data": {
      "text/plain": [
       "[But the problem lay not so much in the problem itself but in the problems that he felt about his depression.,\n",
       " It wasn’t just that he was depressed, it was that he was therefore depressing, towards himself and all those around him.,\n",
       " Sucking the life out of every happy moment, projecting an arcing aurora of negative energy in a kind of reverse feng-shui as he sulked and skulked about in the corners of rooms\n",
       " ,\n",
       " His friends tried to include him as best they could, but this only made him feel more depressed, because they were the ones making the effort to drag this morbid, succourless husk out of his own little world, when it was him who should be making the effort.,\n",
       " Why should they have to put up with him, me, he thought, and though they would eventually give up the ghost, leaving him content that they no longer felt him burdening them, he would arrive home to contemplate with disdain the way in which he felt left out, out of touch, disconnected, misunderstood.\n",
       " ,\n",
       " Humour used to be a good defensive mechanism, but as soon as he had become aware it of being a defense mechanism he no longer felt comfortable using it.,\n",
       " Better to face up to the facts than employ a deflective irony.,\n",
       " But with nothing with which to deflect, and a now acute awareness that an honesty about troubles would only be a burden upon the clearly happy and content people around him, he could only remain gravely silent, a furrowed brow christening his chastened pout.\n",
       " ,\n",
       " And so he would remain, until.]"
      ]
     },
     "execution_count": 96,
     "metadata": {},
     "output_type": "execute_result"
    }
   ],
   "source": [
    "sentence_tokens"
   ]
  },
  {
   "cell_type": "markdown",
   "metadata": {},
   "source": [
    "#### Calculating sentence score:\n",
    "- We will iterate over each sentence and then calcualte the value for sum of all the normalised frequency.\n",
    "- Sentence with higher value of sum, will have higher score."
   ]
  },
  {
   "cell_type": "code",
   "execution_count": 97,
   "metadata": {},
   "outputs": [],
   "source": [
    "sentence_scores={}\n",
    "for sent in sentence_tokens:\n",
    "    for word in sent:\n",
    "        if word.text.lower() in word_frequencies.keys():\n",
    "            if sent not in sentence_scores.keys():\n",
    "                sentence_scores[sent]=word_frequencies[word.text.lower()]\n",
    "            else:\n",
    "                sentence_scores[sent] += word_frequencies[word.text.lower()]"
   ]
  },
  {
   "cell_type": "code",
   "execution_count": 131,
   "metadata": {},
   "outputs": [
    {
     "data": {
      "text/plain": [
       "{But the problem lay not so much in the problem itself but in the problems that he felt about his depression.: 2.75,\n",
       " It wasn’t just that he was depressed, it was that he was therefore depressing, towards himself and all those around him.: 0.75,\n",
       " Sucking the life out of every happy moment, projecting an arcing aurora of negative energy in a kind of reverse feng-shui as he sulked and skulked about in the corners of rooms\n",
       " : 4.25,\n",
       " His friends tried to include him as best they could, but this only made him feel more depressed, because they were the ones making the effort to drag this morbid, succourless husk out of his own little world, when it was him who should be making the effort.: 5.5,\n",
       " Why should they have to put up with him, me, he thought, and though they would eventually give up the ghost, leaving him content that they no longer felt him burdening them, he would arrive home to contemplate with disdain the way in which he felt left out, out of touch, disconnected, misunderstood.\n",
       " : 6.5,\n",
       " Humour used to be a good defensive mechanism, but as soon as he had become aware it of being a defense mechanism he no longer felt comfortable using it.: 4.0,\n",
       " Better to face up to the facts than employ a deflective irony.: 1.25,\n",
       " But with nothing with which to deflect, and a now acute awareness that an honesty about troubles would only be a burden upon the clearly happy and content people around him, he could only remain gravely silent, a furrowed brow christening his chastened pout.\n",
       " : 5.25,\n",
       " And so he would remain, until.: 0.5}"
      ]
     },
     "execution_count": 131,
     "metadata": {},
     "output_type": "execute_result"
    }
   ],
   "source": [
    "sentence_scores"
   ]
  },
  {
   "cell_type": "markdown",
   "metadata": {},
   "source": [
    "----------\n",
    "#### Shortening of Text:\n",
    "\n",
    "--------\n",
    "\n",
    "- Here, we shorten the sentences according to our desired threshold."
   ]
  },
  {
   "cell_type": "code",
   "execution_count": 99,
   "metadata": {},
   "outputs": [],
   "source": [
    "from heapq import nlargest   # for selecting n sentences with nlargest scores"
   ]
  },
  {
   "cell_type": "code",
   "execution_count": 100,
   "metadata": {},
   "outputs": [],
   "source": [
    "select_length= int(len(sentence_tokens)*0.3) # selecting 30 percent of the \n",
    "# sentence"
   ]
  },
  {
   "cell_type": "code",
   "execution_count": 101,
   "metadata": {},
   "outputs": [
    {
     "data": {
      "text/plain": [
       "2"
      ]
     },
     "execution_count": 101,
     "metadata": {},
     "output_type": "execute_result"
    }
   ],
   "source": [
    "select_length"
   ]
  },
  {
   "cell_type": "code",
   "execution_count": 102,
   "metadata": {},
   "outputs": [],
   "source": [
    "summary= nlargest(select_length, sentence_scores, key=sentence_scores.get)"
   ]
  },
  {
   "cell_type": "code",
   "execution_count": 103,
   "metadata": {},
   "outputs": [
    {
     "data": {
      "text/plain": [
       "[Why should they have to put up with him, me, he thought, and though they would eventually give up the ghost, leaving him content that they no longer felt him burdening them, he would arrive home to contemplate with disdain the way in which he felt left out, out of touch, disconnected, misunderstood.\n",
       " ,\n",
       " His friends tried to include him as best they could, but this only made him feel more depressed, because they were the ones making the effort to drag this morbid, succourless husk out of his own little world, when it was him who should be making the effort.]"
      ]
     },
     "execution_count": 103,
     "metadata": {},
     "output_type": "execute_result"
    }
   ],
   "source": [
    "summary"
   ]
  },
  {
   "cell_type": "markdown",
   "metadata": {},
   "source": [
    "-----------------\n",
    "-------------"
   ]
  },
  {
   "cell_type": "markdown",
   "metadata": {},
   "source": [
    "#### Summarising the Results:\n",
    "----------"
   ]
  },
  {
   "cell_type": "code",
   "execution_count": 104,
   "metadata": {},
   "outputs": [],
   "source": [
    "final_summary= [word.text for word in summary]"
   ]
  },
  {
   "cell_type": "code",
   "execution_count": 105,
   "metadata": {},
   "outputs": [],
   "source": [
    "summary=' '.join(final_summary)"
   ]
  },
  {
   "cell_type": "code",
   "execution_count": 157,
   "metadata": {},
   "outputs": [
    {
     "name": "stdout",
     "output_type": "stream",
     "text": [
      "Original Text:\n",
      "******************************\n",
      "But the problem lay not so much in the problem itself but in the problems that he felt about his depression. It wasn’t just that he was depressed, it was that he was therefore depressing, towards himself and all those around him. Sucking the life out of every happy moment, projecting an arcing aurora of negative energy in a kind of reverse feng-shui as he sulked and skulked about in the corners of rooms\n",
      "\n",
      "His friends tried to include him as best they could, but this only made him feel more depressed, because they were the ones making the effort to drag this morbid, succourless husk out of his own little world, when it was him who should be making the effort. Why should they have to put up with him, me, he thought, and though they would eventually give up the ghost, leaving him content that they no longer felt him burdening them, he would arrive home to contemplate with disdain the way in which he felt left out, out of touch, disconnected, misunderstood.\n",
      "\n",
      "Humour used to be a good defensive mechanism, but as soon as he had become aware it of being a defense mechanism he no longer felt comfortable using it. Better to face up to the facts than employ a deflective irony. But with nothing with which to deflect, and a now acute awareness that an honesty about troubles would only be a burden upon the clearly happy and content people around him, he could only remain gravely silent, a furrowed brow christening his chastened pout.\n",
      "\n",
      "And so he would remain, until.\n",
      "*****\n",
      "Length of Original Text:\n",
      "1474\n"
     ]
    }
   ],
   "source": [
    "print(\"Original Text:\"+'\\n'+'*'*30,text,\"*****\",\"Length of Original Text:\",len(text),sep='\\n')"
   ]
  },
  {
   "cell_type": "code",
   "execution_count": 158,
   "metadata": {},
   "outputs": [
    {
     "name": "stdout",
     "output_type": "stream",
     "text": [
      "Summary:\n",
      "******************************\n",
      "Why should they have to put up with him, me, he thought, and though they would eventually give up the ghost, leaving him content that they no longer felt him burdening them, he would arrive home to contemplate with disdain the way in which he felt left out, out of touch, disconnected, misunderstood.\n",
      "\n",
      " His friends tried to include him as best they could, but this only made him feel more depressed, because they were the ones making the effort to drag this morbid, succourless husk out of his own little world, when it was him who should be making the effort.\n",
      "*****\n",
      "Length of summary:\n",
      "560\n"
     ]
    }
   ],
   "source": [
    "print(\"Summary:\"+'\\n'+'*'*30,summary,\"*****\",\"Length of summary:\",len(summary),sep='\\n')"
   ]
  },
  {
   "cell_type": "markdown",
   "metadata": {},
   "source": [
    "--------------------------------------------\n",
    "------------\n",
    "**Thank You**"
   ]
  },
  {
   "cell_type": "code",
   "execution_count": null,
   "metadata": {},
   "outputs": [],
   "source": []
  },
  {
   "cell_type": "code",
   "execution_count": null,
   "metadata": {},
   "outputs": [],
   "source": []
  }
 ],
 "metadata": {
  "kernelspec": {
   "display_name": "Python 3",
   "language": "python",
   "name": "python3"
  },
  "language_info": {
   "codemirror_mode": {
    "name": "ipython",
    "version": 3
   },
   "file_extension": ".py",
   "mimetype": "text/x-python",
   "name": "python",
   "nbconvert_exporter": "python",
   "pygments_lexer": "ipython3",
   "version": "3.8.2"
  }
 },
 "nbformat": 4,
 "nbformat_minor": 4
}
